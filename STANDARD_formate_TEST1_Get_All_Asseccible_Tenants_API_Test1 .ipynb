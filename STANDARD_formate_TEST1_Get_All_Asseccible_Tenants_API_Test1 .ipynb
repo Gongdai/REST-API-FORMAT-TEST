{
 "cells": [
  {
   "cell_type": "markdown",
   "metadata": {},
   "source": [
    "# Authentication and Initialization API STANDARD Formate TEST2"
   ]
  },
  {
   "cell_type": "markdown",
   "metadata": {},
   "source": [
    "## ***GET*** /V1/CMDB/Tenants/{token}\n",
    "This method returns a list of accessible tenants (including tenant ID and names). The returned tenants list varies by the privileges of different user roles. To retrieve a full list of all available tenants, users must log in with admin role. \n",
    "\n",
    "* ## Detail Information\n",
    "\n",
    "> **Title** : Get All Asseccible Tenants API<br>\n",
    "\n",
    "> **Version** : 01/23/2019.\n",
    "\n",
    "> **API Server URL** : http(s):// IP address of your NetBrain Web API Server /ServicesAPI/API/V1/CMDB/Tenants\n",
    "\n",
    "> **Authentication** : \n",
    "\n",
    ">|**Type**|**In**|**Name**|\n",
    "|------|------|------|\n",
    "|<img width=100/>|<img width=100/>|<img width=500/>|\n",
    "|Bearer Authentication| Parameters | Authentication token | \n",
    "\n",
    "* ## Request body(****required***)\n",
    "\n",
    ">No request body.\n",
    "\n",
    "* ## Parameters(****required***)\n",
    "\n",
    "> |**Name**|**Type**|**Description**|\n",
    "|------|------|------|\n",
    "|<img width=100/>|<img width=100/>|<img width=500/>|\n",
    "| token* | string  | Authentication token, get from login API. |\n",
    "\n",
    "\n",
    "* ## Headers\n",
    "\n",
    "> **Data Format Headers**\n",
    "\n",
    "> |**Name**|**Type**|**Description**|\n",
    "|------|------|------|\n",
    "|<img width=100/>|<img width=100/>|<img width=500/>|\n",
    "| Content-Type | string  | support \"application/json\" |\n",
    "| Accept | string  | support \"application/json\" |\n",
    "\n",
    "> **Authorization Headers**\n",
    ">> Not exist in current step.\n",
    "\n",
    "* ## Response\n",
    "\n",
    "> |**Name**|**Type**|**Description**|\n",
    "|------|------|------|\n",
    "|<img width=100/>|<img width=100/>|<img width=500/>|\n",
    "|tenants | array | A list of all accessible tenants.  |\n",
    "|tenantId| string | The tenant ID.  |\n",
    "|tenantName| string | The tenant name. |\n",
    "|statusCode| integer | Code issued by NetBrain server indicating the execution result.  |\n",
    "|statusDescription| string | The explanation of the status code. |\n",
    "\n",
    "> ***Example*** :"
   ]
  },
  {
   "cell_type": "code",
   "execution_count": null,
   "metadata": {},
   "outputs": [],
   "source": [
    "{\n",
    "    'tenants': [\n",
    "        {\n",
    "            'tenantId': 'fb24f3f0-81a7-1929-4b8f-99106c23fa5b', \n",
    "            'tenantName': 'Initial Tenant'\n",
    "        }\n",
    "    ], \n",
    "    'statusCode': 790200, \n",
    "    'statusDescription': 'Success.'\n",
    "}"
   ]
  },
  {
   "cell_type": "markdown",
   "metadata": {},
   "source": [
    "* ## Full Example : "
   ]
  },
  {
   "cell_type": "code",
   "execution_count": 17,
   "metadata": {},
   "outputs": [
    {
     "data": {
      "text/plain": [
       "{'tenants': [{'tenantId': 'fb24f3f0-81a7-1929-4b8f-99106c23fa5b',\n",
       "   'tenantName': 'Initial Tenant'}],\n",
       " 'statusCode': 790200,\n",
       " 'statusDescription': 'Success.'}"
      ]
     },
     "execution_count": 17,
     "metadata": {},
     "output_type": "execute_result"
    }
   ],
   "source": [
    "# import python modules \n",
    "import json\n",
    "import requests\n",
    "import time\n",
    "import urllib3\n",
    "import pprint\n",
    "urllib3.disable_warnings(urllib3.exceptions.InsecureRequestWarning)\n",
    "\n",
    "token = \"828a4561-5ee5-40ac-bf98-01788be48330\" \n",
    "full_url = \"http://192.168.28.79/ServicesAPI/API/V1/CMDB/Tenants\"\n",
    "\n",
    "# Set proper headers\n",
    "headers = {'Content-Type': 'application/json', 'Accept': 'application/json'}\n",
    "query = {\"token\" : token}\n",
    "\n",
    "try:\n",
    "    # Do the HTTP request\n",
    "    response = requests.get(full_url, headers=headers, params = query, verify=False)\n",
    "    # Check for HTTP codes other than 200\n",
    "    if response.status_code == 200:\n",
    "        # Decode the JSON response into a dictionary and use the data\n",
    "        result = response.json()\n",
    "        print (result)\n",
    "    else:\n",
    "        print (\"Get tenants failed! - \" + str(response.text))\n",
    "except Exception as e: return (str(e))\n"
   ]
  },
  {
   "cell_type": "markdown",
   "metadata": {},
   "source": [
    "* ## Error Example : "
   ]
  },
  {
   "cell_type": "code",
   "execution_count": null,
   "metadata": {},
   "outputs": [],
   "source": [
    "###################################################################################################################    \n",
    "\n",
    "\"\"\"Error 1: empty url\"\"\"\n",
    "\n",
    "Input:\n",
    "    token = \"828a4561-5ee5-40ac-bf98-01788be48330\" \n",
    "    \n",
    "    full_url = \"\"  \n",
    "\n",
    "Response:\n",
    "    \"Invalid URL'': No schema supplied. Perhaps you meant http://\"\n",
    "\n",
    "###################################################################################################################    \n",
    "\n",
    "\"\"\"Error 2: wrong url\"\"\"\n",
    "\n",
    "Input:\n",
    "    token = \"828a4561-5ee5-40ac-bf98-01788be48330\" \n",
    "    \n",
    "    full_url = \"http://192.1688.28.79/ServicesAPI/API/V1/CMDB/Tenants\"  \n",
    "\n",
    "Response:\n",
    "    \"\"\"HTTPConnectionPool(host='192.1688.28.79', port=80): \n",
    "       Max retries exceeded with url: /ServicesAPI/API/V1/Session (Caused by NewConnectionError(\n",
    "           '<urllib3.connection.HTTPConnection object at 0x0000022F203C79B0>: \n",
    "           Failed to establish a new connection: [Errno 11001] getaddrinfo failed'))\"\"\"\n",
    "    \n",
    "###################################################################################################################    \n",
    "\n",
    "\"\"\"Error 3: empty token\"\"\"\n",
    "\n",
    "Input:\n",
    "    token = \"\" \n",
    "    \n",
    "    full_url = \"http://192.168.28.79/ServicesAPI/API/V1/CMDB/Tenants\"  \n",
    "\n",
    "Response:\n",
    "    { \"statusCode\": 795005, \"statusDescription\": \"Invalid token. }\n",
    "     \n",
    "###################################################################################################################    \n",
    "\n",
    "\"\"\"Error 4: wrong token\"\"\"\n",
    "\n",
    "Input:\n",
    "    token = \"aaaaaaaaaaaaaaaaaaaaaaaaaaaaaaaaaaaaa\" \n",
    "    \n",
    "    full_url = \"http://192.168.28.79/ServicesAPI/API/V1/CMDB/Tenants\"  \n",
    "\n",
    "Response:\n",
    "    { \"statusCode\": 795005, \"statusDescription\": \"Invalid token. }"
   ]
  }
 ],
 "metadata": {
  "kernelspec": {
   "display_name": "Python 3",
   "language": "python",
   "name": "python3"
  },
  "language_info": {
   "codemirror_mode": {
    "name": "ipython",
    "version": 3
   },
   "file_extension": ".py",
   "mimetype": "text/x-python",
   "name": "python",
   "nbconvert_exporter": "python",
   "pygments_lexer": "ipython3",
   "version": "3.7.1"
  }
 },
 "nbformat": 4,
 "nbformat_minor": 2
}
