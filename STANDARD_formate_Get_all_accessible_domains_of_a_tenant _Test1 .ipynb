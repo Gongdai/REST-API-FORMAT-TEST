{
 "cells": [
  {
   "cell_type": "markdown",
   "metadata": {},
   "source": [
    "# Authentication and Initialization API STANDARD Formate TEST2"
   ]
  },
  {
   "cell_type": "markdown",
   "metadata": {},
   "source": [
    "## ***GET*** /V1/CMDB/Domains/{tenantId}/{token}\n",
    "Use this function returns a list of accessible domains in a specific tenant. The returned accessible domains vary by the user privileges you use to log in. To retrieve a full list of domains in a specified tenant, you must log in with system admin or tenant admin permissions. \n",
    "\n",
    "* ## Detail Information\n",
    "\n",
    "> **Title** : Get all accessible domains of a tenants API<br>\n",
    "\n",
    "> **Version** : 01/23/2019.\n",
    "\n",
    "> **API Server URL** : http(s):// IP address of your NetBrain Web API Server /ServicesAPI/API/V1/CMDB/Domains\n",
    "\n",
    "> **Authentication** : \n",
    "\n",
    ">|**Type**|**In**|**Name**|\n",
    "|------|------|------|\n",
    "|<img width=100/>|<img width=100/>|<img width=500/>|\n",
    "|Bearer Authentication| Parameters | Authentication token | \n",
    "\n",
    "* ## Request body(****required***)\n",
    "\n",
    ">No request body.\n",
    "\n",
    "* ## Parameters(****required***)\n",
    "\n",
    "> |**Name**|**Type**|**Description**|\n",
    "|------|------|------|\n",
    "|<img width=100/>|<img width=100/>|<img width=500/>|\n",
    "| tenantId | string  | Unique identifier for the tenant from which you desire to retrieve the domain information. tenantId can be retrieved from get all accessible tenants.<br> **Note:** If user don't have the privilege to visit all tenants, specific tenantId is required for this API. |\n",
    "| token* | string  | Authentication token, get from login API. |\n",
    "\n",
    "* ## Headers\n",
    "\n",
    "> **Data Format Headers**\n",
    "\n",
    "> |**Name**|**Type**|**Description**|\n",
    "|------|------|------|\n",
    "|<img width=100/>|<img width=100/>|<img width=500/>|\n",
    "| Content-Type | string  | support \"application/json\" |\n",
    "| Accept | string  | support \"application/json\" |\n",
    "\n",
    "> **Authorization Headers**\n",
    ">>  Not exist in current step.\n",
    "\n",
    "* ## Response\n",
    "\n",
    ">|**Name**|**Type**|**Description**|\n",
    "|------|------|------|\n",
    "|<img width=100/>|<img width=100/>|<img width=500/>|\n",
    "|domains | array | A list of all accessible domains. |\n",
    "|domainId| string | The domain ID.  |\n",
    "|domainName| string | The domain name. |\n",
    "|statusCode| integer | Code issued by NetBrain server indicating the execution result.  |\n",
    "|statusDescription| string | The explanation of the status code. |\n",
    "\n",
    "> ***Example***"
   ]
  },
  {
   "cell_type": "code",
   "execution_count": null,
   "metadata": {},
   "outputs": [],
   "source": [
    "{\n",
    "    'domains': [\n",
    "        {\n",
    "            'domainId': '850ff5e9-c639-404d-85a3-d920dbee509c', \n",
    "            'domainName': 'Support and Service'\n",
    "        }, \n",
    "        {\n",
    "            'domainId': '0201adc4-ae96-46f0-ae3d-01cdba9e41d6', \n",
    "            'domainName': 'GE Test'\n",
    "        }\n",
    "    ], \n",
    "    \n",
    "    'statusCode': 790200, \n",
    "    'statusDescription': 'Success.'\n",
    "}"
   ]
  },
  {
   "cell_type": "markdown",
   "metadata": {},
   "source": [
    "* ## Full Example : "
   ]
  },
  {
   "cell_type": "code",
   "execution_count": 6,
   "metadata": {
    "scrolled": true
   },
   "outputs": [
    {
     "name": "stdout",
     "output_type": "stream",
     "text": [
      "{'domains': [{'domainId': '850ff5e9-c639-404d-85a3-d920dbee509c', 'domainName': 'Support and Service'}, {'domainId': '0201adc4-ae96-46f0-ae3d-01cdba9e41d6', 'domainName': 'GE Test'}], 'statusCode': 790200, 'statusDescription': 'Success.'}\n"
     ]
    }
   ],
   "source": [
    "# import python modules \n",
    "import requests\n",
    "import time\n",
    "import urllib3\n",
    "import pprint\n",
    "#urllib3.disable_warnings(urllib3.exceptions.InsecureRequestWarning)\n",
    "import json\n",
    "\n",
    "# Set the request inputs\n",
    "token = \"4f257785-d5f9-42d4-b896-d21f0cb62e6f\"\n",
    "tenantId = \"fb24f3f0-81a7-1929-4b8f-99106c23fa5b\"\n",
    "full_url = \"http://IP address of your NetBrain Web API Server/ServicesAPI/API/V1/CMDB/Domains\"\n",
    "\n",
    "# Set proper headers\n",
    "headers = {'Content-Type': 'application/json', 'Accept': 'application/json'}\n",
    "\n",
    "data = {\n",
    "            \"tenantId\": tenantId,\n",
    "            \"token\" : token\n",
    "       }\n",
    "\n",
    "try:\n",
    "    # Do the HTTP request\n",
    "    response = requests.get(full_url, params=data, headers=headers, verify=False)\n",
    "    # Check for HTTP codes other than 200\n",
    "    if response.status_code == 200:\n",
    "        # Decode the JSON response into a dictionary and use the data\n",
    "        result = response.json()\n",
    "        print (result)\n",
    "    else:\n",
    "        print (\"Get domains failed! - \" + str(response.text))\n",
    "\n",
    "except Exception as e: print (str(e))"
   ]
  },
  {
   "cell_type": "markdown",
   "metadata": {},
   "source": [
    "* ## Error Examples"
   ]
  },
  {
   "cell_type": "code",
   "execution_count": null,
   "metadata": {},
   "outputs": [],
   "source": [
    "###################################################################################################################    \n",
    "\n",
    "\"\"\"Error 1: empty tenantId\"\"\"\n",
    "\n",
    "Input:\n",
    "    token = \"4f257785-d5f9-42d4-b896-d21f0cb62e6f\"\n",
    "    tenantId = \"\"\n",
    "    full_url = \"http://IP address of your NetBrain Web API Server/ServicesAPI/API/V1/CMDB/Domains\"\n",
    "\n",
    "Response:\n",
    "    \"{'domains': [], 'statusCode': 790200, 'statusDescription': 'Success.'}\"\n",
    "\n",
    "###################################################################################################################    \n",
    "\n",
    "\"\"\"Error 2: wrong tenantId\"\"\"\n",
    "\n",
    "Input:\n",
    "    token = \"4f257785-d5f9-42d4-b896-d21f0cb62e6f\"\n",
    "    tenantId = \"aaaaaaaaaaaaaaaaaaaaaaaaaaaaaaaaaaaaaaaaaaa\"\n",
    "    full_url = \"http://IP address of your NetBrain Web API Server/ServicesAPI/API/V1/CMDB/Domains\"\n",
    "\n",
    "Response:\n",
    "    \"\"\"Get domains failed! - \n",
    "    {\"statusCode\":791006,\n",
    "    \"statusDescription\":\"tenant with id aaaaaaaaaaaaaaaaaaaaaaaaaaaaaaaaaaaaaaaaaaa does not exist.\"}\"\"\""
   ]
  }
 ],
 "metadata": {
  "kernelspec": {
   "display_name": "Python 3",
   "language": "python",
   "name": "python3"
  },
  "language_info": {
   "codemirror_mode": {
    "name": "ipython",
    "version": 3
   },
   "file_extension": ".py",
   "mimetype": "text/x-python",
   "name": "python",
   "nbconvert_exporter": "python",
   "pygments_lexer": "ipython3",
   "version": "3.7.1"
  }
 },
 "nbformat": 4,
 "nbformat_minor": 2
}
