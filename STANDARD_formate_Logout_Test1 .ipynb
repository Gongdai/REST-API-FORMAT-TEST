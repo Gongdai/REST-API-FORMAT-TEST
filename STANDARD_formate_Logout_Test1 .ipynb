{
 "cells": [
  {
   "cell_type": "markdown",
   "metadata": {},
   "source": [
    "# Authentication and Initialization API STANDARD Formate "
   ]
  },
  {
   "cell_type": "markdown",
   "metadata": {},
   "source": [
    "## ***DELETE*** /V1/Session\n",
    "Use this API to log out from the current session.\n",
    "\n",
    "* ## Detail Information\n",
    "\n",
    "> **Title** : Log out API<br>\n",
    "\n",
    "> **Version** : 01/23/2019.\n",
    "\n",
    "> **API Server URL** : http(s):// IP address of your NetBrain Web API Server /ServicesAPI/API/V1/Session\n",
    "\n",
    "> **Authentication** : \n",
    "\n",
    ">|**Type**|**In**|**Name**|\n",
    "|------|------|------|\n",
    "|<img width=100/>|<img width=100/>|<img width=500/>|\n",
    "|Bearer Authentication| Headers | Authentication token | \n",
    "\n",
    "* ## Request body(****required***)\n",
    "\n",
    ">No request body.\n",
    "\n",
    "* ## Parameters(****required***)\n",
    "\n",
    "> No parameters required.\n",
    "\n",
    "* ## Headers\n",
    "\n",
    "> **Data Format Headers**\n",
    "\n",
    "> |**Name**|**Type**|**Description**|\n",
    "|------|------|------|\n",
    "|<img width=100/>|<img width=100/>|<img width=500/>|\n",
    "| Content-Type | string  | support \"application/json\" |\n",
    "| Accept | string  | support \"application/json\" |\n",
    "\n",
    "> **Authorization Headers**\n",
    "\n",
    "> |**Name**|**Type**|**Description**|\n",
    "|------|------|------|\n",
    "|<img width=100/>|<img width=100/>|<img width=500/>|\n",
    "| token | string  | Authentication token, get from login API. |\n",
    "\n",
    "* ## Response\n",
    "\n",
    ">|**Name**|**Type**|**Description**|\n",
    "|------|------|------|\n",
    "|<img width=100/>|<img width=100/>|<img width=500/>|\n",
    "|statusCode| integer | The returned status code of executing the API.  |\n",
    "|statusDescription| string | The explanation of the status code. |\n",
    "\n",
    "> ***Example*** :"
   ]
  },
  {
   "cell_type": "code",
   "execution_count": null,
   "metadata": {},
   "outputs": [],
   "source": [
    "{\n",
    "    \"statusCode\": 790200,\n",
    "    \"statusDescription\": \"Success.\"\n",
    "}"
   ]
  },
  {
   "cell_type": "markdown",
   "metadata": {},
   "source": [
    "* ## Full Example : "
   ]
  },
  {
   "cell_type": "code",
   "execution_count": 2,
   "metadata": {},
   "outputs": [
    {
     "name": "stdout",
     "output_type": "stream",
     "text": [
      "{'statusCode': 790200, 'statusDescription': 'Success.'}\n"
     ]
    }
   ],
   "source": [
    "# import python modules \n",
    "import requests\n",
    "import time\n",
    "import urllib3\n",
    "import pprint\n",
    "urllib3.disable_warnings(urllib3.exceptions.InsecureRequestWarning)\n",
    "import json\n",
    "\n",
    "# Set the request inputs\n",
    "token = \"a63c6610-1a44-4907-bb57-784179d30ba3\"\n",
    "full_url = \"http://IP address of your NetBrain Web API Server/ServicesAPI/API/V1/Session\"\n",
    "    \n",
    "# Set proper headers\n",
    "headers = {'Content-Type': 'application/json', 'Accept': 'application/json'}\n",
    "headers[\"token\"] = token\n",
    "\n",
    "try:\n",
    "    # Do the HTTP request\n",
    "    response = requests.delete(full_url, headers=headers, verify=False)\n",
    "    # Check for HTTP codes other than 200\n",
    "    if response.status_code == 200:\n",
    "        # Decode the JSON response into a dictionary and use the data\n",
    "        js = response.json()\n",
    "        print (js)\n",
    "    else:\n",
    "        print (\"Session logout failed! - \" + str(response.text))\n",
    "\n",
    "except Exception as e:\n",
    "    print (str(e))\n",
    "    \n"
   ]
  },
  {
   "cell_type": "markdown",
   "metadata": {},
   "source": [
    "* ## Error Exampes"
   ]
  },
  {
   "cell_type": "code",
   "execution_count": null,
   "metadata": {},
   "outputs": [],
   "source": [
    "###################################################################################################################    \n",
    "\n",
    "\"\"\"Error 1: empty url\"\"\"\n",
    "\n",
    "Input:\n",
    "    token = \"a63c6610-1a44-4907-bb57-784179d30ba3\"\n",
    "    \n",
    "    full_url = \"\"  \n",
    "\n",
    "Response:\n",
    "    \"Invalid URL '': No schema supplied. Perhaps you meant http://?\"\n",
    "    \n",
    "###################################################################################################################    \n",
    "\n",
    "\"\"\"Error 2: wrong url\"\"\"\n",
    "\n",
    "Input:\n",
    "    token = \"a63c6610-1a44-4907-bb57-784179d30ba3\"\n",
    "    \n",
    "    full_url = \"http://IP address of your NetBrain Web API Serveraaaaaaaaaaaaaa/ServicesAPI/API/V1/Session\"  \n",
    "\n",
    "Response:\n",
    "    \"\"\"HTTPConnectionPool(host='192.1688.28.79', port=80): \n",
    "       Max retries exceeded with url: /ServicesAPI/API/V1/Session (Caused by NewConnectionError(\n",
    "           '<urllib3.connection.HTTPConnection object at 0x0000022F203C79B0>: \n",
    "           Failed to establish a new connection: [Errno 11001] getaddrinfo failed'))\"\"\"\n",
    "    \n",
    "################################################################################################################### \n",
    "\n",
    "\"\"\"Error 3: empty token\"\"\"\n",
    "\n",
    "Input:\n",
    "    token = \"\" \n",
    "    \n",
    "    full_url = \"http://IP address of your NetBrain Web API Server/ServicesAPI/API/V1/Session\"  \n",
    "\n",
    "Response:\n",
    "    { \"statusCode\": 795005, \"statusDescription\": \"Invalid token. }\n",
    "     \n",
    "###################################################################################################################    \n",
    "\n",
    "\"\"\"Error 4: wrong token\"\"\"\n",
    "\n",
    "Input:\n",
    "    token = \"aaaaaaaaaaaaaaaaaaaaaaaaaaaaaaaaaaaaa\" \n",
    "    \n",
    "    full_url = \"http://IP address of your NetBrain Web API Server/ServicesAPI/API/V1/Session\"  \n",
    "\n",
    "Response:\n",
    "    { \"statusCode\": 795005, \"statusDescription\": \"Invalid token. }"
   ]
  }
 ],
 "metadata": {
  "kernelspec": {
   "display_name": "Python 3",
   "language": "python",
   "name": "python3"
  },
  "language_info": {
   "codemirror_mode": {
    "name": "ipython",
    "version": 3
   },
   "file_extension": ".py",
   "mimetype": "text/x-python",
   "name": "python",
   "nbconvert_exporter": "python",
   "pygments_lexer": "ipython3",
   "version": "3.7.1"
  }
 },
 "nbformat": 4,
 "nbformat_minor": 2
}
