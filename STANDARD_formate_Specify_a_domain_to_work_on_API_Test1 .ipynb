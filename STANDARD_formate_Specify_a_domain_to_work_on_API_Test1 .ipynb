{
 "cells": [
  {
   "cell_type": "markdown",
   "metadata": {},
   "source": [
    "# Authentication and Initialization API STANDARD Formate TEST2"
   ]
  },
  {
   "attachments": {},
   "cell_type": "markdown",
   "metadata": {},
   "source": [
    "## ***PUT*** /V1/Session/CurrentDomain/{token}\n",
    "Use this API to specify a domain to work on to get or set NetBrain data by associating domainID to the current session. \n",
    "\n",
    "* ## Detail Information\n",
    "\n",
    "> **Title** : Specify a domain to work on API<br>\n",
    "\n",
    "> **Version** : 01/23/2019.\n",
    "\n",
    "> **API Server URL** : http(s):// IP address of your NetBrain Web API Server /ServicesAPI/API/V1/Session/CurrentDomain\n",
    "\n",
    "> **Authentication** : \n",
    "\n",
    ">|**Type**|**In**|**Name**|\n",
    "|------|------|------|\n",
    "|<img width=100/>|<img width=100/>|<img width=500/>|\n",
    "|Bearer Authentication| Parameters | Authentication token | \n",
    "\n",
    "* ## Request body(****required***)\n",
    "\n",
    ">|**Name**|**Type**|**Description**|\n",
    "|------|------|------|\n",
    "|<img width=100/>|<img width=100/>|<img width=500/>|\n",
    "|tenantId* | string  | Unique identifier for the tenant from which you desire to retrieve the domain information. tenantId can be retrieved from get all accessible tenants.  |\n",
    "|domainId | string  | Input the ID of the target domain. Get a domain ID by using the API [Get all accessible domains of a tenant.](https://www.netbraintech.com/docs/ie71/help/get-all-accessible-domains-of-tenant.htm)<br> **Note**: This parameter is optioanl if the following operations aim only on tenant. |\n",
    "\n",
    "* ## Parameters(****required***)\n",
    "\n",
    "> |**Name**|**Type**|**Description**|\n",
    "|------|------|------|\n",
    "|<img width=100/>|<img width=100/>|<img width=500/>|\n",
    "| token* | string  | Authentication token, get from login API. |\n",
    "\n",
    "\n",
    "* ## Headers\n",
    "\n",
    "> **Data Format Headers**\n",
    "\n",
    "> |**Name**|**Type**|**Description**|\n",
    "|------|------|------|\n",
    "|<img width=100/>|<img width=100/>|<img width=500/>|\n",
    "| Content-Type | string  | support \"application/json\" |\n",
    "| Accept | string  | support \"application/json\" |\n",
    "\n",
    "> **Authorization Headers**\n",
    ">> Not exist in current step.\n",
    "\n",
    "* ## Response\n",
    "\n",
    "> |**Name**|**Type**|**Description**|\n",
    "|------|------|------|\n",
    "|<img width=100/>|<img width=100/>|<img width=500/>|\n",
    "|statusCode| integer | Code issued by NetBrain server indicating the execution result.  |\n",
    "|statusDescription| string | The explanation of the status code. |\n",
    "\n",
    "> ***Example***"
   ]
  },
  {
   "cell_type": "code",
   "execution_count": null,
   "metadata": {},
   "outputs": [],
   "source": [
    "{\n",
    "    \"statusCode\": 790200,\n",
    "    \"statusDescription\": \"Success.\"\n",
    "}"
   ]
  },
  {
   "cell_type": "markdown",
   "metadata": {},
   "source": [
    "* ## Full Example :"
   ]
  },
  {
   "cell_type": "code",
   "execution_count": 3,
   "metadata": {},
   "outputs": [
    {
     "name": "stdout",
     "output_type": "stream",
     "text": [
      "{'statusCode': 790200, 'statusDescription': 'Success.'}\n"
     ]
    }
   ],
   "source": [
    "# import python modules \n",
    "import requests\n",
    "import time\n",
    "import urllib3\n",
    "import pprint\n",
    "#urllib3.disable_warnings(urllib3.exceptions.InsecureRequestWarning)\n",
    "import json\n",
    "\n",
    "# Set the request inputs\n",
    "token = \"4f257785-d5f9-42d4-b896-d21f0cb62e6f\"\n",
    "full_url = \"http://192.168.28.79/ServicesAPI/API/V1/Session/CurrentDomain\"\n",
    "tenantId = \"fb24f3f0-81a7-1929-4b8f-99106c23fa5b\"\n",
    "domainId = \"0201adc4-ae96-46f0-ae3d-01cdba9e41d6\"\n",
    "    \n",
    "# Set proper headers\n",
    "headers = {'Content-Type': 'application/json', 'Accept': 'application/json'}\n",
    "\n",
    "query = {\"token\" : token}\n",
    "\n",
    "body = {\n",
    "        \"tenantId\": tenantId,\n",
    "        \"domainId\": domainId\n",
    "    }\n",
    "\n",
    "try:\n",
    "    # Do the HTTP request\n",
    "    response = requests.put(full_url, data=json.dumps(body), headers=headers, params = query, verify=False)\n",
    "    # Check for HTTP codes other than 200\n",
    "    if response.status_code == 200:\n",
    "        # Decode the JSON response into a dictionary and use the data\n",
    "        result = response.json()\n",
    "        print (result)\n",
    "    elif response.status_code != 200:\n",
    "        print (\"Login failed! - \" + str(response.text))\n",
    "\n",
    "except Exception as e: print (str(e))\n"
   ]
  },
  {
   "cell_type": "markdown",
   "metadata": {},
   "source": [
    "* ## Error Examples:"
   ]
  },
  {
   "cell_type": "code",
   "execution_count": null,
   "metadata": {},
   "outputs": [],
   "source": [
    "###################################################################################################################    \n",
    "\n",
    "\"\"\"Error 1: empty tenantId and domainId\"\"\"\n",
    "\n",
    "Input:\n",
    "    token = \"4f257785-d5f9-42d4-b896-d21f0cb62e6f\"\n",
    "    full_url = \"http://192.168.28.79/ServicesAPI/API/V1/Session/CurrentDomain\"\n",
    "    tenantId = \"\"\n",
    "    domainId = \"\"\n",
    "\n",
    "Response:\n",
    "    \"{\n",
    "        \"statusCode\": 791000,\n",
    "        \"statusDescription\": \"Null parameter: the parameter 'tenantId' cannot be null.\"\n",
    "     }\"\n",
    "\n",
    "###################################################################################################################    \n",
    "\n",
    "\"\"\"Error 1: wrong tenantId\"\"\"\n",
    "\n",
    "Input:\n",
    "    token = \"4f257785-d5f9-42d4-b896-d21f0cb62e6f\"\n",
    "    full_url = \"http://192.168.28.79/ServicesAPI/API/V1/Session/CurrentDomain\"\n",
    "    tenantId = \"aaaaaaaaaaaaaaaaaaaaaaaaaaaaaaaaaaaaaaaaa\"\n",
    "    domainId = \"0201adc4-ae96-46f0-ae3d-01cdba9e41d6\"\n",
    "\n",
    "Response:\n",
    "    \"{\n",
    "        \"statusCode\": 791004,\n",
    "        \"statusDescription\": \"Invalid tenant id.\"\n",
    "    }\""
   ]
  }
 ],
 "metadata": {
  "kernelspec": {
   "display_name": "Python 3",
   "language": "python",
   "name": "python3"
  },
  "language_info": {
   "codemirror_mode": {
    "name": "ipython",
    "version": 3
   },
   "file_extension": ".py",
   "mimetype": "text/x-python",
   "name": "python",
   "nbconvert_exporter": "python",
   "pygments_lexer": "ipython3",
   "version": "3.7.1"
  }
 },
 "nbformat": 4,
 "nbformat_minor": 2
}
